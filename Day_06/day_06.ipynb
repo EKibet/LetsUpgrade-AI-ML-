{
 "cells": [
  {
   "cell_type": "code",
   "execution_count": 30,
   "metadata": {},
   "outputs": [
    {
     "name": "stdout",
     "output_type": "stream",
     "text": [
      "companyname\n"
     ]
    }
   ],
   "source": [
    "# Question 1:\n",
    "\n",
    "# Assuming that we have some email addresses in the \"username@companyname.com\" format, please\n",
    "# write a program to print the company name of a given email address. Both user names and company\n",
    "# names are composed of letters only.\n",
    "import re\n",
    "def get_company(email):\n",
    "     return re.findall(r\"\\@(.*?)\\.\", email)[0]\n",
    "        \n",
    "print(get_company(\"username@companyname.com\"))\n"
   ]
  },
  {
   "cell_type": "code",
   "execution_count": 29,
   "metadata": {},
   "outputs": [
    {
     "name": "stdout",
     "output_type": "stream",
     "text": [
      "True\n"
     ]
    }
   ],
   "source": [
    "# Question 2:\n",
    "\n",
    "# Write a program that accepts a comma-separated sequence of words as input and prints the words in a\n",
    "# comma-separated sequence after sorting them alphabetically.\n",
    "# Print the sorted words separated by the comma.\n",
    "\n",
    "\n",
    "def sort_word(string):\n",
    "    return ','.join(sorted(string.split(\",\")))\n",
    "\n",
    "print(sort_word('without,hello,bag,world')=='bag,hello,without,world')\n",
    "    \n",
    "    "
   ]
  },
  {
   "cell_type": "code",
   "execution_count": 22,
   "metadata": {},
   "outputs": [
    {
     "name": "stdout",
     "output_type": "stream",
     "text": [
      "{'IND004', 'IND003', 'IND001', 'IND002', 'IND005'}\n"
     ]
    }
   ],
   "source": [
    "# Question 3:\n",
    "# Create your own Jupyter Notebook for Sets. Reference link:\n",
    "car_plates = {'IND001','IND002'}\n",
    "car_plates.add('IND003')\n",
    "car_plates.update(['IND004','IND005'])\n",
    "print(car_plates)"
   ]
  },
  {
   "cell_type": "code",
   "execution_count": 28,
   "metadata": {},
   "outputs": [
    {
     "name": "stdout",
     "output_type": "stream",
     "text": [
      "5\n"
     ]
    }
   ],
   "source": [
    "# Question 4:\n",
    "\n",
    "# Given a list of n-1 numbers ranging from 1 to n, your task is to find the missing number. There are no\n",
    "# duplicates.\n",
    "def find_missing_number(num_list):\n",
    "    possible_range = range(1,max(num_list)+1)\n",
    "    return [num for num in possible_range if num not in num_list][0]\n",
    "print(find_missing_number([1,2,3,4,6]))\n",
    "    \n"
   ]
  },
  {
   "cell_type": "code",
   "execution_count": 43,
   "metadata": {},
   "outputs": [
    {
     "name": "stdout",
     "output_type": "stream",
     "text": [
      "True\n"
     ]
    }
   ],
   "source": [
    "# Question 5:\n",
    "\n",
    "# With a given list L, write a program to print this list L after removing all duplicate values with original order\n",
    "# reserved.\n",
    "\n",
    "def remove_duplicates(L):\n",
    "    cleaned_l = []\n",
    "    \n",
    "    for num in L:\n",
    "        if num not in cleaned_l:\n",
    "            cleaned_l.append(num)\n",
    "        continue\n",
    "            \n",
    "    return cleaned_l\n",
    "print(remove_duplicates([12,24,35,24,88,120,155,88,120,155]) == [12,24,35,88,120,155])"
   ]
  },
  {
   "cell_type": "code",
   "execution_count": null,
   "metadata": {},
   "outputs": [],
   "source": []
  },
  {
   "cell_type": "code",
   "execution_count": null,
   "metadata": {},
   "outputs": [],
   "source": []
  }
 ],
 "metadata": {
  "kernelspec": {
   "display_name": "Python 3",
   "language": "python",
   "name": "python3"
  },
  "language_info": {
   "codemirror_mode": {
    "name": "ipython",
    "version": 3
   },
   "file_extension": ".py",
   "mimetype": "text/x-python",
   "name": "python",
   "nbconvert_exporter": "python",
   "pygments_lexer": "ipython3",
   "version": "3.6.9"
  }
 },
 "nbformat": 4,
 "nbformat_minor": 4
}
