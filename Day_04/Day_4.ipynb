{
 "cells": [
  {
   "cell_type": "code",
   "execution_count": 24,
   "metadata": {},
   "outputs": [
    {
     "name": "stdout",
     "output_type": "stream",
     "text": [
      "Addition: (4+6j)\n",
      "Substraction: 0j\n",
      "multiplication: (-5+12j)\n",
      "conlusion🤔:  floor division, and modulo operations cannot be performed on complex numbers\n"
     ]
    }
   ],
   "source": [
    "# Research on whether addition, subtraction, multiplication, division, floor division, and modulo operations\n",
    "# be performed on complex numbers. Based on your study, implement a Python program to demonstrate\n",
    "# these operations.\n",
    "complex_n0_1 = 2+3j\n",
    "complex_n0_2 = 4+7j\n",
    "print(\"Addition:\",complex_n0_1 + complex_n0_1)\n",
    "print(\"Substraction:\",complex_n0_1 - complex_n0_1)\n",
    "print(\"multiplication:\",complex_n0_1 * complex_n0_1)\n",
    "\n",
    "\n",
    "print(\"conlusion\\U0001F914:  floor division, and modulo operations cannot be performed on complex numbers\")\n",
    "\n"
   ]
  },
  {
   "cell_type": "markdown",
   "metadata": {},
   "source": [
    "### Range and its parameters\n",
    "\n",
    "Range function is used to generate a sequence of numbers within a given range.  \n",
    ">Range accepts three arguments as explained below:  \n",
    "    **1. start**- integer starting from which the sequence of integers is to be returned  \n",
    "    **2. stop** - integer before which the sequence of integers is to be returned.  \n",
    "    **3. step(Optional)** - integer value which determines the increment between each integer in the sequence  \n",
    "    \n",
    "    example:\n",
    "     for num in range(1,11,2):\n",
    "         print(num)  \n",
    "           \n",
    "    *output will be: 1, 3, 5, 7, 9*\n",
    "    *range will return a sequence of numbers starting from 1 to (11 - 1) while taking a single increment.*\n",
    "\n",
    "\n",
    "\n",
    "\n"
   ]
  },
  {
   "cell_type": "code",
   "execution_count": 8,
   "metadata": {},
   "outputs": [
    {
     "name": "stdout",
     "output_type": "stream",
     "text": [
      "2.0\n"
     ]
    }
   ],
   "source": [
    "# Consider two numbers. Perform their subtraction and if the result of subtraction is greater than 25, print\n",
    "# their multiplication result else print their division result.\n",
    "num_1=20\n",
    "num_2=40\n",
    "sub=num_2-num_1\n",
    "print(num_2*num_1 if sub>25 else num_2/num_1)"
   ]
  },
  {
   "cell_type": "code",
   "execution_count": 29,
   "metadata": {},
   "outputs": [
    {
     "name": "stdout",
     "output_type": "stream",
     "text": [
      "(square of 4)-2 =14\n",
      "(square of 2)-2 =2\n",
      "(square of 6)-2 =34\n",
      "(square of 8)-2 =62\n",
      "(square of 56)-2 =3134\n",
      "(square of 88)-2 =7742\n"
     ]
    }
   ],
   "source": [
    "# Consider a list of 10 elements of integer values. If the number in the list is divisible by 2, print the result as\n",
    "# \"square of that number minus 2\".\n",
    "\n",
    "list_a = [1,4,2,6,8,56,7,88,99,33]\n",
    "for num in list_a:\n",
    "    if num%2==0:\n",
    "        print(\"(square of {})-2 ={}\".format(num,(num**2)-2))"
   ]
  },
  {
   "cell_type": "code",
   "execution_count": 23,
   "metadata": {},
   "outputs": [
    {
     "name": "stdout",
     "output_type": "stream",
     "text": [
      "[56, 88, 99, 33]\n"
     ]
    }
   ],
   "source": [
    "# Consider a list of 10 elements. Print all the elements in the list which are greater than 7 when that number\n",
    "# is divided 2.\n",
    "list_a = [1,4,2,6,8,56,7,88,99,33]\n",
    "print([num for num in list_a if (num/2)>7])\n",
    "    "
   ]
  },
  {
   "cell_type": "code",
   "execution_count": null,
   "metadata": {},
   "outputs": [],
   "source": []
  }
 ],
 "metadata": {
  "kernelspec": {
   "display_name": "Python 3",
   "language": "python",
   "name": "python3"
  },
  "language_info": {
   "codemirror_mode": {
    "name": "ipython",
    "version": 3
   },
   "file_extension": ".py",
   "mimetype": "text/x-python",
   "name": "python",
   "nbconvert_exporter": "python",
   "pygments_lexer": "ipython3",
   "version": "3.6.9"
  }
 },
 "nbformat": 4,
 "nbformat_minor": 4
}
