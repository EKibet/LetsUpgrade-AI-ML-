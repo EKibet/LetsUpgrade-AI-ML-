{
 "cells": [
  {
   "cell_type": "code",
   "execution_count": 30,
   "metadata": {},
   "outputs": [
    {
     "name": "stdout",
     "output_type": "stream",
     "text": [
      "map in use: [1, 16, 4, 25]\n",
      "filter in use: [4, 2]\n",
      "reduce in use: 12\n",
      "map+reduce+lambda in use: 24\n",
      "map+filter+lambda in use: [12, 6]\n"
     ]
    }
   ],
   "source": [
    "# Recreate “NB 21 map, filter, lambda.ipynb” to try different variations or perform different calculations from\n",
    "# the ones that are in the NB\n",
    "from functools import reduce\n",
    "list_a=[1,4,2,5]\n",
    "list_b=[1,4,2,5]\n",
    "def get_square(x,y):\n",
    "    return x*y\n",
    "\n",
    "result = map(get_square,list_a,list_b)\n",
    "print('map in use:',list(result))\n",
    "\n",
    "def get_even(val):\n",
    "    if val%2==0:\n",
    "        return val\n",
    "print('filter in use:',list(filter(get_even,list_a)))\n",
    "\n",
    "# reduce\n",
    "\n",
    "def sum(x,y):\n",
    "    return x+y\n",
    "print('reduce in use:',reduce(sum,list_a))\n",
    "\n",
    "# map+reduce_lambda\n",
    "print('map+reduce+lambda in use:',reduce(lambda x,y:x+y,list(map(lambda x:x*2,list_a))))\n",
    "\n",
    "# map+filter+lambda\n",
    "\n",
    "print('map+filter+lambda in use:',list(filter(lambda x:x%2==0,map(lambda x:x*3,list_a))))\n"
   ]
  },
  {
   "cell_type": "code",
   "execution_count": 35,
   "metadata": {},
   "outputs": [
    {
     "name": "stdout",
     "output_type": "stream",
     "text": [
      "X5\n",
      "car specifications:\n",
      "\t:X5 2010 Silver 4\n"
     ]
    }
   ],
   "source": [
    "# Recreate your own Python NB for “Classes and Objects” from the pdf provided namely\n",
    "# “Classes&Objects.pdf”\n",
    "\n",
    "class Car():\n",
    "    def __init__(self,model,year_of_make,color,wheels):\n",
    "        self.model=model\n",
    "        self.year_of_make=year_of_make\n",
    "        self.color=color\n",
    "        self.wheels=wheels\n",
    "    def get_model(self):\n",
    "        return self.model\n",
    "    def get_wheels(self):\n",
    "        self.wheels\n",
    "    def get_all_details(self):\n",
    "        props=list(map(str,[self.model,self.year_of_make,self.color,self.wheels]))\n",
    "        \n",
    "        return 'car specifications:\\n\\t:'+' '.join(props)\n",
    "bmw=Car('X5',2010,'Silver',4)\n",
    "print(bmw.get_model())\n",
    "print(bmw.get_all_details())"
   ]
  },
  {
   "cell_type": "code",
   "execution_count": null,
   "metadata": {},
   "outputs": [],
   "source": []
  }
 ],
 "metadata": {
  "kernelspec": {
   "display_name": "Python 3",
   "language": "python",
   "name": "python3"
  },
  "language_info": {
   "codemirror_mode": {
    "name": "ipython",
    "version": 3
   },
   "file_extension": ".py",
   "mimetype": "text/x-python",
   "name": "python",
   "nbconvert_exporter": "python",
   "pygments_lexer": "ipython3",
   "version": "3.6.9"
  }
 },
 "nbformat": 4,
 "nbformat_minor": 4
}
