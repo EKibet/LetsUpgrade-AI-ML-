{
 "cells": [
  {
   "cell_type": "code",
   "execution_count": 2,
   "metadata": {},
   "outputs": [
    {
     "name": "stdout",
     "output_type": "stream",
     "text": [
      "Edgar Kibet\n",
      "\n",
      "Michael Sir\n",
      "\n"
     ]
    }
   ],
   "source": [
    "# Write a program to copy the contents of one file to another using a for loop. (Don’t use built-in copy\n",
    "# function)\n",
    "\n",
    "def copy(line):\n",
    "    with open('copied_student_names.txt','a')as f_handler:\n",
    "        f_handler.write(line)\n",
    "with open('student_names.txt','w') as f_handler:\n",
    "    f_handler.write('Edgar Kibet'+'\\n')\n",
    "    f_handler.write('Michael Sir'+'\\n')\n",
    "with open('student_names.txt','r') as f_handler:\n",
    "    lines=f_handler.readlines()\n",
    "    for i in  lines:\n",
    "        copy(i)\n",
    "        \n",
    "\n",
    "with open('copied_student_names.txt','r') as f_handler:\n",
    "    lines=f_handler.readlines()\n",
    "    for i in  lines:\n",
    "        print(i)     \n",
    "\n",
    "        \n"
   ]
  },
  {
   "cell_type": "code",
   "execution_count": 1,
   "metadata": {},
   "outputs": [
    {
     "name": "stdout",
     "output_type": "stream",
     "text": [
      "Min: 0\n",
      "Max: 12\n"
     ]
    }
   ],
   "source": [
    "# Write a Python program to find maximum and minimum values in the dictionary. Do not use built-in min\n",
    "# and max functions.\n",
    "\n",
    "def find_max_min(dict):\n",
    "    values=[v for k,v in dict.items()]\n",
    "    values.sort()\n",
    "    return 'Min: {}\\nMax: {}'.format(values[0],values[-1])\n",
    "print(find_max_min({\"one\":1,\"four\":4,\"two\":2,\"six\":6,\"tweve\":12,\"zero\":0}))    \n",
    "        "
   ]
  },
  {
   "cell_type": "code",
   "execution_count": null,
   "metadata": {},
   "outputs": [],
   "source": []
  }
 ],
 "metadata": {
  "kernelspec": {
   "display_name": "Python 3",
   "language": "python",
   "name": "python3"
  },
  "language_info": {
   "codemirror_mode": {
    "name": "ipython",
    "version": 3
   },
   "file_extension": ".py",
   "mimetype": "text/x-python",
   "name": "python",
   "nbconvert_exporter": "python",
   "pygments_lexer": "ipython3",
   "version": "3.6.9"
  }
 },
 "nbformat": 4,
 "nbformat_minor": 4
}
