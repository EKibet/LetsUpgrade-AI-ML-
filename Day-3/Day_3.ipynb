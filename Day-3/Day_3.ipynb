{
 "cells": [
  {
   "cell_type": "code",
   "execution_count": 40,
   "metadata": {},
   "outputs": [
    {
     "name": "stdout",
     "output_type": "stream",
     "text": [
      "0j\n"
     ]
    }
   ],
   "source": [
    "# Write a program to subtract two complex numbers in Python.\n",
    "num_1=3+6j\n",
    "num_2 = 4+7j\n",
    "print(num_2-num_2)"
   ]
  },
  {
   "cell_type": "code",
   "execution_count": 41,
   "metadata": {},
   "outputs": [
    {
     "name": "stdout",
     "output_type": "stream",
     "text": [
      "5.0\n"
     ]
    }
   ],
   "source": [
    "# Write a program to find the fourth root of a number.\n",
    "import math\n",
    "print(math.sqrt(math.sqrt(625)))"
   ]
  },
  {
   "cell_type": "code",
   "execution_count": 42,
   "metadata": {},
   "outputs": [
    {
     "name": "stdout",
     "output_type": "stream",
     "text": [
      "t1=3,t2=2\n"
     ]
    }
   ],
   "source": [
    "# Write a program to swap two numbers in Python with the help of a temporary variable.\n",
    "temp_1 = 2\n",
    "temp_2=3\n",
    "temp_3=temp_1\n",
    "temp_1=temp_2\n",
    "temp_2=temp_3\n",
    "print(\"t1={},t2={}\".format(temp_1,temp_2))"
   ]
  },
  {
   "cell_type": "code",
   "execution_count": 43,
   "metadata": {
    "scrolled": true
   },
   "outputs": [
    {
     "name": "stdout",
     "output_type": "stream",
     "text": [
      "t1=3,t2=2\n"
     ]
    }
   ],
   "source": [
    "# Write a program to swap two numbers in Python without using a temporary variable.\n",
    "temp_1=2\n",
    "temp_2=3\n",
    "temp_1,temp_2=temp_2,temp_1\n",
    "print(\"t1={},t2={}\".format(temp_1,temp_2))"
   ]
  },
  {
   "cell_type": "code",
   "execution_count": 44,
   "metadata": {},
   "outputs": [
    {
     "name": "stdout",
     "output_type": "stream",
     "text": [
      "-40 F is: 233.14999999999998 K\n",
      "-40 F is: 233.14999999999998 °C\n"
     ]
    }
   ],
   "source": [
    "# Write a program to convert Fahrenheit to kelvin and celsius both.\n",
    "\n",
    "            # Fahrenheit to kelvin\n",
    "# formula = T(K) = (T(°F) + 459.67) × 5/9\n",
    "temperature_in_fanherit= -40\n",
    "temp_in_kelvin = (temperature_in_fanherit + 459.67) * 5/9\n",
    "print('-40 F is:',temp_in_kelvin,'K')\n",
    "\n",
    "# Fahrenheit to celsius\n",
    "# Formular = (32°F − 32) × 5/9 = 0°C\n",
    "temp_in_celsius =(temperature_in_fanherit-32) * 5/9\n",
    "print('-40 F is:',temp_in_kelvin,'°C')\n",
    "\n"
   ]
  },
  {
   "cell_type": "code",
   "execution_count": 45,
   "metadata": {},
   "outputs": [
    {
     "name": "stdout",
     "output_type": "stream",
     "text": [
      "[<class 'bool'>, <class 'str'>, <class 'int'>, <class 'list'>, <class 'tuple'>, <class 'set'>, <class 'dict'>, <class 'float'>, <class 'complex'>]\n"
     ]
    }
   ],
   "source": [
    "# Write a program to demonstrate all the available data types in Python. Hint: Use type() function.\n",
    "\n",
    "is_student= True #boolean\n",
    "student_name = \"Edgar\" #string\n",
    "student_id=1 #integer\n",
    "student_topics_list=['Supervised Learning','Unsupervised Learning','Semi-Supervised Learning']\n",
    "student_topics_tuple=('Supervised Learning','Unsupervised Learning','Semi-Supervised Learning')\n",
    "\n",
    "student_teachers={'Dr. Darshan','Dr. V Govimth','Saikiran'} #set\n",
    "subject_teacher_dict={'Dr. Darshan':['Supervised Learning','Unsupervised Learning','Semi-Supervised Learning'],}\n",
    "student_fees_float=2999.9 #float\n",
    "student_complex_no=2+7j #complex_no\n",
    "\n",
    "student_details=[is_student,student_name,student_id,student_topics_list,student_topics_tuple,student_teachers,subject_teacher_dict,student_fees_float,student_complex_no]\n",
    "print(list(map(lambda x: type(x),student_details)))"
   ]
  },
  {
   "cell_type": "code",
   "execution_count": null,
   "metadata": {},
   "outputs": [],
   "source": []
  }
 ],
 "metadata": {
  "kernelspec": {
   "display_name": "Python 3",
   "language": "python",
   "name": "python3"
  },
  "language_info": {
   "codemirror_mode": {
    "name": "ipython",
    "version": 3
   },
   "file_extension": ".py",
   "mimetype": "text/x-python",
   "name": "python",
   "nbconvert_exporter": "python",
   "pygments_lexer": "ipython3",
   "version": "3.6.9"
  }
 },
 "nbformat": 4,
 "nbformat_minor": 4
}
