{
 "cells": [
  {
   "cell_type": "code",
   "execution_count": 8,
   "metadata": {},
   "outputs": [
    {
     "name": "stdout",
     "output_type": "stream",
     "text": [
      "[2, 3, 5, 7, 11, 13, 17, 19, 23, 29, 31, 37, 41, 43, 47, 53, 59, 61, 67, 71]\n"
     ]
    }
   ],
   "source": [
    "# Write a Python program to find the first 20 non-even prime natural numbers.\n",
    "import re, sys\n",
    "\n",
    "\n",
    "def isPrime(n):\n",
    "    return re.match(r'^1?$|^(11+?)\\1+$', '1' * n) == None\n",
    "number_limit=100\n",
    "prime_under_20=[]\n",
    "\n",
    "while len(prime_under_20)<=20:\n",
    "    prime_under_20 += filter(isPrime, range(number_limit - 100, number_limit)) \n",
    "\n",
    "print(prime_under_20[:20])    \n",
    "    "
   ]
  },
  {
   "cell_type": "code",
   "execution_count": 27,
   "metadata": {},
   "outputs": [
    {
     "name": "stdout",
     "output_type": "stream",
     "text": [
      "['Write', 'a', 'Python', 'program', 'to', 'implement', '15', 'functions', 'of', 'string']\n",
      "Write a Python program to implement 15 functions of string\n",
      "WRITE A PYTHON PROGRAM TO IMPLEMENT 15 FUNCTIONS OF STRING\n",
      "2\n",
      "wRITE A pYTHON PROGRAM TO IMPLEMENT 15 FUNCTIONS OF STRING\n",
      "write a python program to implement 15 functions of string\n",
      "Write A Python Program To Implement 15 Functions Of String\n",
      "False\n",
      "False\n",
      "W-r-i-t-e- -a- -P-y-t-h-o-n- -p-r-o-g-r-a-m- -t-o- -i-m-p-l-e-m-e-n-t- -1-5- -f-u-n-c-t-i-o-n-s- -o-f- -s-t-r-i-n-g\n",
      "False\n",
      "Write a python program to implement 15 functions of string\n",
      "15\n",
      "Write a Python program to implement 15 functions of string\n",
      "Write a Python program to implement 15 functions of string\n"
     ]
    }
   ],
   "source": [
    "# Write a Python program to implement 15 functions of string.\n",
    "string_1='Write a Python program to implement 15 functions of string'\n",
    "print(string_1.split(\" \"))\n",
    "print(string_1.strip())\n",
    "print(string_1.upper())\n",
    "print(string_1.count('a'))\n",
    "print(string_1.swapcase())\n",
    "print(string_1.lower())\n",
    "print(string_1.title())\n",
    "print(string_1.isupper())\n",
    "print(string_1.islower())\n",
    "print(\"-\".join(string_1))\n",
    "print(string_1.isalpha())\n",
    "print(string_1.capitalize())\n",
    "print(string_1.index('p'))\n",
    "print(string_1.lstrip())\n",
    "print(string_1.rstrip())"
   ]
  },
  {
   "cell_type": "code",
   "execution_count": 37,
   "metadata": {},
   "outputs": [
    {
     "name": "stdout",
     "output_type": "stream",
     "text": [
      "radar is a palindrome\n",
      "radars is a neither palindrome nor Anagram\n",
      "Listen is a Anagram\n"
     ]
    }
   ],
   "source": [
    "# Write a Python program to check if the given string is a Palindrome or Anagram or None of them. Display\n",
    "# the message accordingly to the user.\n",
    "\n",
    "def is_palindrome(input):\n",
    "    return True if input==input[::-1] else False\n",
    "def is_anagram(input,anagram_word):\n",
    "    input = input.replace(\" \",'').lower()\n",
    "    anagram_word=anagram_word.lower()\n",
    "    for letter in input:\n",
    "        if input.count(letter)==anagram_word.count(letter):\n",
    "            return True\n",
    "        else:\n",
    "            return False\n",
    "\n",
    "def check_word(string):\n",
    "    if is_palindrome(string):\n",
    "        print(\"{} is a palindrome\".format(string))\n",
    "    elif is_anagram(string,'Silent'):\n",
    "        print(\"{} is a Anagram\".format(string))\n",
    "    else:\n",
    "        print(\"{} is a neither palindrome nor Anagram\".format(string))\n",
    "check_word(\"radar\")\n",
    "check_word(\"radars\")\n",
    "check_word(\"Listen\")\n",
    "        \n",
    "        "
   ]
  },
  {
   "cell_type": "code",
   "execution_count": 40,
   "metadata": {},
   "outputs": [
    {
     "data": {
      "text/plain": [
       "'drdarshaningle@aimltrainer'"
      ]
     },
     "execution_count": 40,
     "metadata": {},
     "output_type": "execute_result"
    }
   ],
   "source": [
    "# Write a Python's user-defined function that removes all the additional characters from the string and\n",
    "# convert it finally to lower case using built-in lower(). eg: If the string is \"Dr. Darshan Ingle @AIML Trainer\",\n",
    "# then the output be \"drdarshaningleaimltrainer\".\n",
    "\n",
    "def remove_characters(string):\n",
    "    \n",
    "    return re.sub(r'[?|$|.|!]',r'',string.replace(\" \",'').lower())\n",
    "     \n",
    "remove_characters('Dr. Darshan Ingle @AIML Trainer')"
   ]
  },
  {
   "cell_type": "code",
   "execution_count": null,
   "metadata": {},
   "outputs": [],
   "source": []
  }
 ],
 "metadata": {
  "kernelspec": {
   "display_name": "Python 3",
   "language": "python",
   "name": "python3"
  },
  "language_info": {
   "codemirror_mode": {
    "name": "ipython",
    "version": 3
   },
   "file_extension": ".py",
   "mimetype": "text/x-python",
   "name": "python",
   "nbconvert_exporter": "python",
   "pygments_lexer": "ipython3",
   "version": "3.6.9"
  }
 },
 "nbformat": 4,
 "nbformat_minor": 4
}
